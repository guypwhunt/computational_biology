{
 "metadata": {
  "language_info": {
   "codemirror_mode": {
    "name": "ipython",
    "version": 3
   },
   "file_extension": ".py",
   "mimetype": "text/x-python",
   "name": "python",
   "nbconvert_exporter": "python",
   "pygments_lexer": "ipython3",
   "version": "3.7.6-final"
  },
  "orig_nbformat": 2,
  "kernelspec": {
   "name": "python3",
   "display_name": "Python 3"
  }
 },
 "nbformat": 4,
 "nbformat_minor": 2,
 "cells": [
  {
   "source": [
    "# Nucleotide Sequence Analyser #\n",
    "\n",
    "Please run the cell below and enter a DNA nucleotide sequence and it will be analysed.  "
   ],
   "cell_type": "markdown",
   "metadata": {}
  },
  {
   "cell_type": "code",
   "execution_count": 1,
   "metadata": {},
   "outputs": [
    {
     "output_type": "stream",
     "name": "stdout",
     "text": [
      "DNA Information\nCleansed Nucleotide Sequence: {'cleansed_nucleotide_sequence': 'ATCATTACTACA', 'non_nucleotide_characters_removed': ['S', 'V', 'S', 'V', 'S']}\nNucleotide Frequency: {'A': 5, 'T': 4, 'G': 0, 'C': 3, 'Total': 12}\nNucleotide Sequence Molecular Mass: 2906.7799999999997\nComplementary Nucleotide Sequence: TAGTAATGATGT\n\n Complementary DNA Information\nCleansed Nucleotide Sequence: {'cleansed_nucleotide_sequence': 'TAGTAATGATGT', 'non_nucleotide_characters_removed': []}\nNucleotide Frequency: {'A': 4, 'T': 5, 'G': 3, 'C': 0, 'Total': 12}\nNucleotide Sequence Molecular Mass: 3017.8300000000004\nComplementary Nucleotide Sequence: ATCATTACTACA\n\nRNA Information\nCleansed DNA Nucleotide Sequence: {'cleansed_nucleotide_sequence': 'ATCATTACTACA', 'non_nucleotide_characters_removed': ['S', 'V', 'S', 'V', 'S']}\nComplementary RNA Nucleotide Sequence: UAGUAAUGAUGU\n\n RNA Analysis\nCleansed Nucleotide Sequence: {'cleansed_nucleotide_sequence': 'UAGUAAUGAUGU', 'non_nucleotide_characters_removed': []}\nNucleotide Frequency: {'A': 4, 'U': 5, 'G': 3, 'C': 0, 'Total': 12}\nNucleotide Sequence Molecular Mass: 3138.7199999999993\nComplementary Nucleotide Sequence: AUCAUUACUACA\n\n Complementary RNA Analysis\nCleansed Nucleotide Sequence: {'cleansed_nucleotide_sequence': 'AUCAUUACUACA', 'non_nucleotide_characters_removed': []}\nNucleotide Frequency: {'A': 5, 'U': 4, 'G': 0, 'C': 3, 'Total': 12}\nNucleotide Sequence Molecular Mass: 3041.4599999999996\nComplementary Nucleotide Sequence: UAGUAAUGAUGU\n"
     ]
    },
    {
     "output_type": "execute_result",
     "data": {
      "text/plain": [
       "'         cleansed_nucleotide_sequence = cleansed_resuts[0]\\n            removed_characters_from_nucleotide_sequence = cleansed_resuts[1]\\n            if len(removed_characters_from_nucleotide_sequence) >= 1:\\n                print(f\\'The following characters were remove from your input sequence: {removed_characters_from_nucleotide_sequence}\\')\\n            break\\n        except:\\n            print(\"There was an error cleansing your nucleotide sequence please try again.\")\\n        \\n    # analyse the frequency of DNA nucleotides\\n    try:\\n        nucleotide_list = dna_nucleotide_data.nucleotide_list\\n        nucleotide_frequency = nucleotide_analysis.c_nucleotide_frequency(nucleotide_sequence = cleansed_nucleotide_sequence, nucleotide_list=nucleotide_list)\\n        if \"Error\" in nucleotide_frequency:\\n            print(\"\\nThere was an error calculating the DNA nucleotide frequencies\")\\n        else:\\n            print(f\\'\\nThe DNA nucleotide frequencies are: {nucleotide_frequency}\\')\\n    except:\\n        print(\"\\nThere was an error calculating the nucleotide frequencies\")\\n    \\n    # calculate the molecular weight of the DNA strand\\n    try:\\n        molecular_mass_dict = dna_nucleotide_data.molecular_mass\\n        dna_mass = nucleotide_analysis.d_molecular_mass(nucleotide_sequence = cleansed_nucleotide_sequence, molecular_mass_dict = molecular_mass_dict)\\n        if dna_mass == 0:\\n            print(\"\\nThere was an error calculating the molecular mass of the DNA sequence\")\\n        else:\\n            print(f\\'\\nThe molecular mass of the DNA strand is: {round(dna_mass,1)}\\')\\n    except:\\n        print(\"\\nThere was an error calculating the molecular mass of the DNA sequence\")\\n\\n    # calculate the complimentary DNA strand\\n    try:\\n        dna_complimentary_base_pairs = dna_nucleotide_data.nucleotide_compliments\\n        dna_complement_strand = nucleotide_analysis.e_complement(nucleotide_sequence = cleansed_nucleotide_sequence, complimentary_base_pairs = dna_complimentary_base_pairs)\\n        if dna_complement_strand == \"Error\":\\n            print(\"\\nThere was an error creating the complimentary DNA sequence\")\\n        else:\\n            print(f\\'\\nThe complimentary DNA sequence is: {dna_complement_strand}\\')\\n    except:\\n        print(\"\\nThere was an error creating the complimentary DNA sequence\")\\n\\n    # calculate the molecular weight of the complimentary DNA strand\\n    try:\\n        molecular_mass_dict = dna_nucleotide_data.molecular_mass\\n        complimentary_dna_mass = nucleotide_analysis.d_molecular_mass(nucleotide_sequence = cleansed_nucleotide_sequence, molecular_mass_dict = molecular_mass_dict)\\n        if dna_mass == 0:\\n            print(\"\\nThere was an error calculating the molecular mass of the complimentary DNA sequence\")\\n        else:\\n            print(f\\'\\nThe molecular mass of the complimentary DNA strand is: {round(complimentary_dna_mass,1)}\\')\\n    except:\\n        print(\"\\nThere was an error calculating the molecular mass of the complimentary DNA sequence\")\\n\\n    # calculate the RNA strand\\n    try:\\n        dna_to_rna_base_pairs = dna_nucleotide_data.nucleotide_rna_compliments\\n        rna_strand = nucleotide_analysis.e_complement(nucleotide_sequence = cleansed_nucleotide_sequence, complimentary_base_pairs = dna_to_rna_base_pairs)\\n        if rna_strand == \"Error\":\\n            print(\"\\nThere was an error creating the RNA sequence\")\\n        else:\\n            print(f\\'\\nThe  RNA sequence is: {rna_strand}\\')\\n    except:\\n        print(\"\\nThere was an error creating the RNA sequence\")\\n    \\n    # calculate the molecular weight of the RNA strand\\n    try:\\n        molecular_mass_dict = rna_nucleotide_data.molecular_mass\\n        rna_mass = nucleotide_analysis.d_molecular_mass(nucleotide_sequence = rna_strand, molecular_mass_dict = molecular_mass_dict)\\n        if dna_mass == 0:\\n            print(\"\\nThere was an error calculating the molecular mass of the RNA sequence\")\\n        else:\\n            print(f\\'\\nThe molecular mass of the RNA strand is: {round(rna_mass,1)}\\')\\n    except:\\n        print(\"\\nThere was an error calculating the molecular mass of the RNA sequence\")\\n\\n    # calculate the complimentary RNA strand\\n    try:\\n        rna_base_pairs = rna_nucleotide_data.nucleotide_compliments\\n        complimentary_rna_strand = nucleotide_analysis.e_complement(nucleotide_sequence = rna_strand, complimentary_base_pairs = rna_base_pairs)\\n        if rna_strand == \"Error\":\\n            print(\"\\nThere was an error creating the complementary RNA sequence\")\\n        else:\\n            print(f\\'\\nThe complementary RNA sequence is: {complimentary_rna_strand}\\')\\n    except:\\n        print(\"\\nThere was an error creating the complementary RNA sequence\")\\n\\n    # calculate the molecular weight of the complimentary RNA strand\\n    try:\\n        molecular_mass_dict = rna_nucleotide_data.molecular_mass\\n        complimentary_rna_mass = nucleotide_analysis.d_molecular_mass(nucleotide_sequence = complimentary_rna_strand, molecular_mass_dict = molecular_mass_dict)\\n        if dna_mass == 0:\\n            print(\"\\nThere was an error calculating the molecular mass of the complimentary RNA sequence\")\\n        else:\\n            print(f\\'\\nThe molecular mass of the RNA strand is: {round(complimentary_rna_mass,1)}\\')\\n    except:\\n        print(\"\\nThere was an error calculating the molecular mass of the complimentary RNA sequence\")\\n\\n    # To add, RNA to amino acid converter, DNA transcription start stop identifier, RNA translation start stop identifier \\n\\nx = master_process()'"
      ]
     },
     "metadata": {},
     "execution_count": 1
    }
   ],
   "source": [
    "import nucleotide_analysis\n",
    "from dna_nucleotide_data import *\n",
    "from rna_nucleotide_data import *\n",
    "\n",
    "def master_process():\n",
    "    # DNA Analysis\n",
    "    while True:\n",
    "        nucleotide_sequence = input(\"Please input a DNA sequence: \")\n",
    "        try:\n",
    "            nucleotide_list = dna_nucleotide_data.nucleotide_list\n",
    "            molecular_mass_dict = dna_nucleotide_data.molecular_mass\n",
    "            dna_complimentary_base_pairs = dna_nucleotide_data.nucleotide_compliments\n",
    "            dna = nucleotide_analysis.nucleotide_analysis(nucleotide_sequence=nucleotide_sequence, nucleotide_list=nucleotide_list, molecular_mass_dict=molecular_mass_dict, complimentary_base_pairs=dna_complimentary_base_pairs)\n",
    "            break\n",
    "        except:\n",
    "            print(\"There was an error entering your nucleotide sequence please try again.\")\n",
    "            break\n",
    "    print(\"DNA Information\")\n",
    "    print(f'Cleansed Nucleotide Sequence: {dna.sequence_cleanser()}')\n",
    "    print(f'Nucleotide Frequency: {dna.nucleotide_frequency()}')\n",
    "    print(f'Nucleotide Sequence Molecular Mass: {dna.molecular_mass()}')\n",
    "    print(f'Complementary Nucleotide Sequence: {dna.complement()}')\n",
    "\n",
    "    # Complementary DNA Analysis\n",
    "    while True:\n",
    "        try:\n",
    "            nucleotide_list = dna_nucleotide_data.nucleotide_list\n",
    "            molecular_mass_dict = dna_nucleotide_data.molecular_mass\n",
    "            dna_complimentary_base_pairs = dna_nucleotide_data.nucleotide_compliments\n",
    "            complimentary_dna = nucleotide_analysis.nucleotide_analysis(nucleotide_sequence=dna.complement(), nucleotide_list=nucleotide_list, molecular_mass_dict=molecular_mass_dict, complimentary_base_pairs=dna_complimentary_base_pairs)\n",
    "            break\n",
    "        except:\n",
    "            print(\"There was an error entering your nucleotide sequence please try again.\")\n",
    "            break\n",
    "    print(\"\\n Complementary DNA Information\")\n",
    "    print(f'Cleansed Nucleotide Sequence: {complimentary_dna.sequence_cleanser()}')\n",
    "    print(f'Nucleotide Frequency: {complimentary_dna.nucleotide_frequency()}')\n",
    "    print(f'Nucleotide Sequence Molecular Mass: {complimentary_dna.molecular_mass()}')\n",
    "    print(f'Complementary Nucleotide Sequence: {complimentary_dna.complement()}')\n",
    "\n",
    "    # DNA to RNA Conversion\n",
    "    while True:\n",
    "        try:\n",
    "            nucleotide_list = dna_nucleotide_data.nucleotide_list\n",
    "            molecular_mass_dict = dna_nucleotide_data.molecular_mass\n",
    "            dna_to_rna_base_pairs = dna_nucleotide_data.nucleotide_rna_compliments\n",
    "            rna_conversion = nucleotide_analysis.nucleotide_analysis(nucleotide_sequence=nucleotide_sequence, nucleotide_list=nucleotide_list, molecular_mass_dict=molecular_mass_dict, complimentary_base_pairs=dna_to_rna_base_pairs)\n",
    "            break\n",
    "        except:\n",
    "            print(\"There was an error entering your nucleotide sequence please try again.\")\n",
    "            break\n",
    "    print(\"\\nRNA Information\")\n",
    "    print(f'Cleansed DNA Nucleotide Sequence: {rna_conversion.sequence_cleanser()}')\n",
    "    print(f'Complementary RNA Nucleotide Sequence: {rna_conversion.complement()}')\n",
    "\n",
    "    \n",
    "\n",
    "    # RNA Analysis\n",
    "    while True:\n",
    "        try:\n",
    "            nucleotide_list = rna_nucleotide_data.nucleotide_list\n",
    "            molecular_mass_dict = rna_nucleotide_data.molecular_mass\n",
    "            rna_complimentary_base_pairs = rna_nucleotide_data.nucleotide_compliments\n",
    "            rna = nucleotide_analysis.nucleotide_analysis(nucleotide_sequence=rna_conversion.complement(), nucleotide_list=nucleotide_list, molecular_mass_dict=molecular_mass_dict, complimentary_base_pairs=rna_complimentary_base_pairs)\n",
    "            break\n",
    "        except:\n",
    "            print(\"There was an error entering your nucleotide sequence please try again.\")\n",
    "            break\n",
    "    print(\"\\n RNA Analysis\")\n",
    "    print(f'Cleansed Nucleotide Sequence: {rna.sequence_cleanser()}')\n",
    "    print(f'Nucleotide Frequency: {rna.nucleotide_frequency()}')\n",
    "    print(f'Nucleotide Sequence Molecular Mass: {rna.molecular_mass()}')\n",
    "    print(f'Complementary Nucleotide Sequence: {rna.complement()}')\n",
    "\n",
    "    # Complementary RNA Analysis\n",
    "    while True:\n",
    "        try:\n",
    "            nucleotide_list = rna_nucleotide_data.nucleotide_list\n",
    "            molecular_mass_dict = rna_nucleotide_data.molecular_mass\n",
    "            rna_complimentary_base_pairs = rna_nucleotide_data.nucleotide_compliments\n",
    "            rna = nucleotide_analysis.nucleotide_analysis(nucleotide_sequence=rna.complement(), nucleotide_list=nucleotide_list, molecular_mass_dict=molecular_mass_dict, complimentary_base_pairs=rna_complimentary_base_pairs)\n",
    "            break\n",
    "        except:\n",
    "            print(\"There was an error entering your nucleotide sequence please try again.\")\n",
    "            break\n",
    "    print(\"\\n Complementary RNA Analysis\")\n",
    "    print(f'Cleansed Nucleotide Sequence: {rna.sequence_cleanser()}')\n",
    "    print(f'Nucleotide Frequency: {rna.nucleotide_frequency()}')\n",
    "    print(f'Nucleotide Sequence Molecular Mass: {rna.molecular_mass()}')\n",
    "    print(f'Complementary Nucleotide Sequence: {rna.complement()}')\n",
    "\n",
    "x = master_process()"
   ]
  },
  {
   "cell_type": "code",
   "execution_count": null,
   "metadata": {},
   "outputs": [],
   "source": []
  }
 ]
}